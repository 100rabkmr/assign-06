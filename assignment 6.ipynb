{
 "cells": [
  {
   "cell_type": "raw",
   "id": "4e058b4c",
   "metadata": {},
   "source": [
    "1. What are escape characters, and how do you use them?\n",
    "\n",
    "\n",
    "ans). To insert characters that are illegal in a string, use an escape character.\n",
    "\n",
    "     An escape character is a backslash \\ followed by the character you want to insert.\n",
    "\n"
   ]
  },
  {
   "cell_type": "raw",
   "id": "85b90a69",
   "metadata": {},
   "source": [
    "2. What do the escape characters n and t stand for?\n",
    "\n",
    "\n",
    "ans)   \\n is a newline; \\t is a tab"
   ]
  },
  {
   "cell_type": "raw",
   "id": "45428569",
   "metadata": {},
   "source": [
    "3. What is the way to include backslash characters in a string?\n",
    "\n",
    "\n",
    "\n",
    "ans)        The \\\\ escape character will represent a backslash character."
   ]
  },
  {
   "cell_type": "raw",
   "id": "3374ebc5",
   "metadata": {},
   "source": [
    "4. The string \"Howl's Moving Castle\" is a correct value. Why isn't the single quote character in the\n",
    "word Howl's not escaped a problem?\n",
    "\n",
    "\n",
    "\n",
    "ans)    The single quote in Howl's is fine because you've used double quotes to mark the beginning and end of the string."
   ]
  },
  {
   "cell_type": "raw",
   "id": "4ae7ef06",
   "metadata": {},
   "source": [
    "5. How do you write a string of newlines if you don't want to use the n character?\n",
    "\n",
    "\n",
    "ans)         Multiline strings allow you to use newlines in strings without the \\n escape character."
   ]
  },
  {
   "cell_type": "raw",
   "id": "ec4b9391",
   "metadata": {},
   "source": [
    "6. What are the values of the given expressions?\n",
    "'Hello, world!'[1]\n",
    "'Hello, world!'[0:5]\n",
    "'Hello, world!'[:5]\n",
    "'Hello, world!'[3:]\n",
    "\n",
    "\n",
    "\n",
    "\n",
    "ans)         The expressions evaluate to the following:\n",
    "\n",
    "            'e'\n",
    "\n",
    "            'Hello'\n",
    "\n",
    "            'Hello'\n",
    "\n",
    "            'lo world!"
   ]
  },
  {
   "cell_type": "raw",
   "id": "f2826b66",
   "metadata": {},
   "source": [
    "7. What are the values of the following expressions?\n",
    "'Hello'.upper()\n",
    "'Hello'.upper().isupper()\n",
    "'Hello'.upper().lower()\n",
    "\n",
    "\n",
    "\n",
    "\n",
    "ans)    The expressions evaluate to the following:\n",
    "   \n",
    "\n",
    "        'HELLO'\n",
    "\n",
    "        True\n",
    "\n",
    "        'hello'"
   ]
  },
  {
   "cell_type": "raw",
   "id": "650c97e2",
   "metadata": {},
   "source": [
    "8. What are the values of the following expressions?\n",
    "'Remember,remember,the fifth of july.'.split()\n",
    "'-'.join('There can only one.'.split())\n",
    "\n",
    "\n",
    "ans)        The expressions evaluate to the following:\n",
    "\n",
    "            ['Remember,', 'remember,', 'the', 'fifth', 'of', 'November.']\n",
    "\n",
    "            'There-can-be-only-one."
   ]
  },
  {
   "cell_type": "raw",
   "id": "dc676da2",
   "metadata": {},
   "source": [
    "9. What are the methods for right-justifying, left-justifying, and centering a string?\n",
    "\n",
    "\n",
    "ans)    The rjust(), ljust(), and center() string methods, respectively"
   ]
  },
  {
   "cell_type": "raw",
   "id": "625d8c01",
   "metadata": {},
   "source": [
    "10. What is the best way to remove whitespace characters from the start or end?\n",
    "\n",
    "\n",
    "\n",
    "ans)   The lstrip() and rstrip() methods remove whitespace from the left and right ends of a string, respectively."
   ]
  }
 ],
 "metadata": {
  "kernelspec": {
   "display_name": "Python 3 (ipykernel)",
   "language": "python",
   "name": "python3"
  },
  "language_info": {
   "codemirror_mode": {
    "name": "ipython",
    "version": 3
   },
   "file_extension": ".py",
   "mimetype": "text/x-python",
   "name": "python",
   "nbconvert_exporter": "python",
   "pygments_lexer": "ipython3",
   "version": "3.11.7"
  }
 },
 "nbformat": 4,
 "nbformat_minor": 5
}
